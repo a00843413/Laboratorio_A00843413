{
 "cells": [
  {
   "cell_type": "markdown",
   "metadata": {
    "id": "K6aUpDf7KC_p"
   },
   "source": [
    "# Actividad Evaluable: Obtención de estadisticas descriptivas\n",
    "#### Ethan Alejandro Alvarez Suarez - A00843413"
   ]
  },
  {
   "cell_type": "code",
   "execution_count": 78,
   "metadata": {
    "id": "Xhds4njPKC_u"
   },
   "outputs": [],
   "source": [
    "#importa librerías\n",
    "import pandas as pd\n",
    "import matplotlib.pyplot as plt"
   ]
  },
  {
   "cell_type": "code",
   "execution_count": 79,
   "metadata": {
    "id": "dLr3UCdTKC_1"
   },
   "outputs": [],
   "source": [
    "diabetes = pd.read_csv(\"diabetes.csv\")"
   ]
  },
  {
   "cell_type": "markdown",
   "metadata": {
    "id": "JdYf-8XyKC_x"
   },
   "source": [
    "# Descripción de Variables"
   ]
  },
  {
   "cell_type": "markdown",
   "metadata": {
    "id": "Y7EVetS8KC_y"
   },
   "source": [
    "- SkinThickness Skin Thickness (grasa local debajo de la piel - mm; 0 = NULL) : Cuantitativa Continua  \n",
    "- Insulin Insulin (La cantidad de insulina que secreta el páncreas en respuesta a la glucosa - μU/mL (micro-units per milliliter); 0 = NULL) : Cuantitativa Continua  \n",
    "- BMI Body Mass Index (Tamaño corporal total - kg/(m^2); 0 = NULL) : Cuantitativa Continua"
   ]
  },
  {
   "cell_type": "code",
   "execution_count": 80,
   "metadata": {},
   "outputs": [
    {
     "data": {
      "text/plain": [
       "(768, 3)"
      ]
     },
     "execution_count": 80,
     "metadata": {},
     "output_type": "execute_result"
    }
   ],
   "source": [
    "#Rows & Columns\n",
    "diabetes.iloc[:, 3:6].shape"
   ]
  },
  {
   "cell_type": "code",
   "execution_count": 81,
   "metadata": {
    "id": "d70yk1VbKC_4",
    "outputId": "e7d340fd-be4a-4b6a-a205-18e7833aef88"
   },
   "outputs": [
    {
     "data": {
      "text/plain": [
       "SkinThickness     51\n",
       "Insulin          186\n",
       "BMI              248\n",
       "dtype: int64"
      ]
     },
     "execution_count": 81,
     "metadata": {},
     "output_type": "execute_result"
    }
   ],
   "source": [
    "#Number of unique values for each dataset\n",
    "diabetes.iloc[:, 3:6].nunique()"
   ]
  },
  {
   "cell_type": "markdown",
   "metadata": {
    "id": "ae13SbMmKC_7"
   },
   "source": [
    "# Variables Cuantitativas\n",
    "\n",
    "### Medidas de tendencia central, STD, y Gráficos\n"
   ]
  },
  {
   "cell_type": "markdown",
   "metadata": {
    "id": "8nTyC2dzKC_5"
   },
   "source": [
    "## Exploración de Datos y Conclusiones"
   ]
  },
  {
   "cell_type": "code",
   "execution_count": 82,
   "metadata": {
    "id": "6FZFAnZjKC_6",
    "outputId": "753497de-4abb-4bcb-d1b7-34275424396f"
   },
   "outputs": [
    {
     "data": {
      "text/plain": [
       "SkinThickness    227\n",
       "Insulin          374\n",
       "BMI               11\n",
       "dtype: int64"
      ]
     },
     "execution_count": 82,
     "metadata": {},
     "output_type": "execute_result"
    }
   ],
   "source": [
    "#number of null values in the datasets\n",
    "diabetes[['SkinThickness', 'Insulin', 'BMI']].replace(0, pd.NA).isna().sum()"
   ]
  },
  {
   "cell_type": "code",
   "execution_count": 83,
   "metadata": {
    "id": "vDNofiEZKC_7",
    "outputId": "63524fd6-ca06-484e-fa9e-0dbbf5be2d6d"
   },
   "outputs": [
    {
     "name": "stdout",
     "output_type": "stream",
     "text": [
      "Mean_SkinThickness:  20.536458333333332\n",
      "Median_SkinThickness:  23.0\n",
      "Mode_SkinThickness:  0    0\n",
      "Name: SkinThickness, dtype: int64\n",
      "Mean_Insulin:  79.79947916666667\n",
      "Median_Insulin:  30.5\n",
      "Mode_Insulin:  0    0\n",
      "Name: Insulin, dtype: int64\n",
      "Mean_BMI:  31.992578124999998\n",
      "Median_BMI:  32.0\n",
      "Mode_BMI:  0    32.0\n",
      "Name: BMI, dtype: float64\n"
     ]
    }
   ],
   "source": [
    "mean_SkinThickness = diabetes['SkinThickness'].mean()\n",
    "median_SkinThickness = diabetes['SkinThickness'].median()\n",
    "mode_SkinThickness = diabetes['SkinThickness'].mode()\n",
    "print(\"Mean_SkinThickness: \", mean_SkinThickness)\n",
    "print(\"Median_SkinThickness: \", median_SkinThickness)\n",
    "print(\"Mode_SkinThickness: \", mode_SkinThickness)\n",
    "\n",
    "mean_Insulin = diabetes['Insulin'].mean()\n",
    "median_Insulin = diabetes['Insulin'].median()\n",
    "mode_Insulin = diabetes['Insulin'].mode()\n",
    "print(\"Mean_Insulin: \", mean_Insulin)\n",
    "print(\"Median_Insulin: \", median_Insulin)\n",
    "print(\"Mode_Insulin: \", mode_Insulin)\n",
    "\n",
    "mean_BMI = diabetes['BMI'].mean()\n",
    "median_BMI = diabetes['BMI'].median()\n",
    "mode_BMI = diabetes['BMI'].mode()\n",
    "print(\"Mean_BMI: \", mean_BMI)\n",
    "print(\"Median_BMI: \", median_BMI)\n",
    "print(\"Mode_BMI: \", mode_BMI)"
   ]
  },
  {
   "cell_type": "code",
   "execution_count": 84,
   "metadata": {
    "id": "0CsuORYXKC_5",
    "outputId": "8425ef66-1f29-492c-81cd-f72230bad9d2"
   },
   "outputs": [
    {
     "data": {
      "text/html": [
       "<div>\n",
       "<style scoped>\n",
       "    .dataframe tbody tr th:only-of-type {\n",
       "        vertical-align: middle;\n",
       "    }\n",
       "\n",
       "    .dataframe tbody tr th {\n",
       "        vertical-align: top;\n",
       "    }\n",
       "\n",
       "    .dataframe thead th {\n",
       "        text-align: right;\n",
       "    }\n",
       "</style>\n",
       "<table border=\"1\" class=\"dataframe\">\n",
       "  <thead>\n",
       "    <tr style=\"text-align: right;\">\n",
       "      <th></th>\n",
       "      <th>SkinThickness</th>\n",
       "      <th>Insulin</th>\n",
       "      <th>BMI</th>\n",
       "    </tr>\n",
       "  </thead>\n",
       "  <tbody>\n",
       "    <tr>\n",
       "      <th>count</th>\n",
       "      <td>768.000000</td>\n",
       "      <td>768.000000</td>\n",
       "      <td>768.000000</td>\n",
       "    </tr>\n",
       "    <tr>\n",
       "      <th>mean</th>\n",
       "      <td>20.536458</td>\n",
       "      <td>79.799479</td>\n",
       "      <td>31.992578</td>\n",
       "    </tr>\n",
       "    <tr>\n",
       "      <th>std</th>\n",
       "      <td>15.952218</td>\n",
       "      <td>115.244002</td>\n",
       "      <td>7.884160</td>\n",
       "    </tr>\n",
       "    <tr>\n",
       "      <th>min</th>\n",
       "      <td>0.000000</td>\n",
       "      <td>0.000000</td>\n",
       "      <td>0.000000</td>\n",
       "    </tr>\n",
       "    <tr>\n",
       "      <th>25%</th>\n",
       "      <td>0.000000</td>\n",
       "      <td>0.000000</td>\n",
       "      <td>27.300000</td>\n",
       "    </tr>\n",
       "    <tr>\n",
       "      <th>50%</th>\n",
       "      <td>23.000000</td>\n",
       "      <td>30.500000</td>\n",
       "      <td>32.000000</td>\n",
       "    </tr>\n",
       "    <tr>\n",
       "      <th>75%</th>\n",
       "      <td>32.000000</td>\n",
       "      <td>127.250000</td>\n",
       "      <td>36.600000</td>\n",
       "    </tr>\n",
       "    <tr>\n",
       "      <th>max</th>\n",
       "      <td>99.000000</td>\n",
       "      <td>846.000000</td>\n",
       "      <td>67.100000</td>\n",
       "    </tr>\n",
       "  </tbody>\n",
       "</table>\n",
       "</div>"
      ],
      "text/plain": [
       "       SkinThickness     Insulin         BMI\n",
       "count     768.000000  768.000000  768.000000\n",
       "mean       20.536458   79.799479   31.992578\n",
       "std        15.952218  115.244002    7.884160\n",
       "min         0.000000    0.000000    0.000000\n",
       "25%         0.000000    0.000000   27.300000\n",
       "50%        23.000000   30.500000   32.000000\n",
       "75%        32.000000  127.250000   36.600000\n",
       "max        99.000000  846.000000   67.100000"
      ]
     },
     "execution_count": 84,
     "metadata": {},
     "output_type": "execute_result"
    }
   ],
   "source": [
    "#min/max values; mean/median values of each table WITH NULL VALUES\n",
    "diabetes.iloc[:, 3:6].describe()"
   ]
  },
  {
   "cell_type": "code",
   "execution_count": 85,
   "metadata": {},
   "outputs": [
    {
     "name": "stdout",
     "output_type": "stream",
     "text": [
      "SkinThickness       7\n",
      "Insulin            14\n",
      "BMI              18.2\n",
      "dtype: object\n"
     ]
    }
   ],
   "source": [
    "#next lowest value\n",
    "print(diabetes[['SkinThickness', 'Insulin', 'BMI']].replace(0, pd.NA).min())"
   ]
  },
  {
   "cell_type": "code",
   "execution_count": 86,
   "metadata": {},
   "outputs": [
    {
     "data": {
      "text/plain": [
       "SkinThickness     15.952218\n",
       "Insulin          115.244002\n",
       "BMI                7.884160\n",
       "dtype: float64"
      ]
     },
     "execution_count": 86,
     "metadata": {},
     "output_type": "execute_result"
    }
   ],
   "source": [
    "#STD of table WITH NULL VALUES\n",
    "diabetes[['SkinThickness', 'Insulin', 'BMI']].std()"
   ]
  },
  {
   "cell_type": "markdown",
   "metadata": {
    "id": "Y7EVetS8KC_y"
   },
   "source": [
    "### Data analysis excluding null values"
   ]
  },
  {
   "cell_type": "code",
   "execution_count": 87,
   "metadata": {},
   "outputs": [
    {
     "data": {
      "text/plain": [
       "SkinThickness      29.15342\n",
       "Insulin          155.548223\n",
       "BMI               32.457464\n",
       "dtype: object"
      ]
     },
     "execution_count": 87,
     "metadata": {},
     "output_type": "execute_result"
    }
   ],
   "source": [
    "#mean values of each table WITHOUT NULL VALUES\n",
    "diabetes[['SkinThickness', 'Insulin', 'BMI']].replace(0, pd.NA).mean()"
   ]
  },
  {
   "cell_type": "code",
   "execution_count": 88,
   "metadata": {},
   "outputs": [
    {
     "data": {
      "text/plain": [
       "SkinThickness     29.0\n",
       "Insulin          125.0\n",
       "BMI               32.3\n",
       "dtype: object"
      ]
     },
     "execution_count": 88,
     "metadata": {},
     "output_type": "execute_result"
    }
   ],
   "source": [
    "#median values of each table WITHOUT NULL VALUES\n",
    "diabetes[['SkinThickness', 'Insulin', 'BMI']].replace(0, pd.NA).median()"
   ]
  },
  {
   "cell_type": "code",
   "execution_count": 89,
   "metadata": {},
   "outputs": [
    {
     "data": {
      "text/html": [
       "<div>\n",
       "<style scoped>\n",
       "    .dataframe tbody tr th:only-of-type {\n",
       "        vertical-align: middle;\n",
       "    }\n",
       "\n",
       "    .dataframe tbody tr th {\n",
       "        vertical-align: top;\n",
       "    }\n",
       "\n",
       "    .dataframe thead th {\n",
       "        text-align: right;\n",
       "    }\n",
       "</style>\n",
       "<table border=\"1\" class=\"dataframe\">\n",
       "  <thead>\n",
       "    <tr style=\"text-align: right;\">\n",
       "      <th></th>\n",
       "      <th>SkinThickness</th>\n",
       "      <th>Insulin</th>\n",
       "      <th>BMI</th>\n",
       "    </tr>\n",
       "  </thead>\n",
       "  <tbody>\n",
       "    <tr>\n",
       "      <th>0</th>\n",
       "      <td>32</td>\n",
       "      <td>105</td>\n",
       "      <td>32.0</td>\n",
       "    </tr>\n",
       "  </tbody>\n",
       "</table>\n",
       "</div>"
      ],
      "text/plain": [
       "  SkinThickness Insulin   BMI\n",
       "0            32     105  32.0"
      ]
     },
     "execution_count": 89,
     "metadata": {},
     "output_type": "execute_result"
    }
   ],
   "source": [
    "#mode values of each table WITHOUT NULL VALUES\n",
    "diabetes[['SkinThickness', 'Insulin', 'BMI']].replace(0, pd.NA).mode()"
   ]
  },
  {
   "cell_type": "code",
   "execution_count": 90,
   "metadata": {},
   "outputs": [
    {
     "data": {
      "text/plain": [
       "SkinThickness     10.476982\n",
       "Insulin          118.775855\n",
       "BMI                6.924988\n",
       "dtype: object"
      ]
     },
     "execution_count": 90,
     "metadata": {},
     "output_type": "execute_result"
    }
   ],
   "source": [
    "#STD of table WITHOUT NULL VALUES\n",
    "diabetes[['SkinThickness', 'Insulin', 'BMI']].replace(0, pd.NA).std()"
   ]
  },
  {
   "cell_type": "markdown",
   "metadata": {
    "id": "Y7EVetS8KC_y"
   },
   "source": [
    "# Conclusiónes:  \n",
    "\n",
    "## Para el grosor de la piel:  \n",
    "Rango: (0, 99)  \n",
    "siguiente valor más bajo: 7  \n",
    "numero de valores null: 22  \n",
    "- datos CON valores NULL:  \n",
    "promedio: 20  \n",
    "valor medio: 23  \n",
    "valor más común: 0  \n",
    "STD: 16  \n",
    "---  \n",
    "- datos SIN valores NULL:\n",
    "promedio: 29  \n",
    "valor medio: 29  \n",
    "valor más común: 32  \n",
    "STD: 10  \n",
    "---  \n",
    "## Para la insulina:  \n",
    "Rango: (0, 846)  \n",
    "siguiente valor más bajo: 14  \n",
    "numero de valores null: 374\n",
    "- datos CON valores NULL:  \n",
    "promedio: 79  \n",
    "valor medio: 30.5  \n",
    "valor más común: 0  \n",
    "STD: 115  \n",
    "---  \n",
    "- datos SIN valores NULL:  \n",
    "promedio: 125  \n",
    "valor medio: 125  \n",
    "valor más común: 105  \n",
    "STD: 118  \n",
    "---  \n",
    "## Para el BMI:  \n",
    "Rango: (0, 67.1)  \n",
    "siguiente valor más bajo: 18.2  \n",
    "numero de valores null: 11  \n",
    "- datos CON valores NULL:  \n",
    "promedio: 32.0  \n",
    "valor medio: 32.0  \n",
    "valor más común: 32.0  \n",
    "STD: 7.9  \n",
    "---  \n",
    "- datos SIN valores NULL:  \n",
    "promedio: 32.5\n",
    "valor medio: 32.3  \n",
    "valor más común: 32.0\n",
    "STD: 6.9"
   ]
  }
 ],
 "metadata": {
  "colab": {
   "provenance": []
  },
  "kernelspec": {
   "display_name": "Python 3 (ipykernel)",
   "language": "python",
   "name": "python3"
  },
  "language_info": {
   "codemirror_mode": {
    "name": "ipython",
    "version": 3
   },
   "file_extension": ".py",
   "mimetype": "text/x-python",
   "name": "python",
   "nbconvert_exporter": "python",
   "pygments_lexer": "ipython3",
   "version": "3.12.3"
  }
 },
 "nbformat": 4,
 "nbformat_minor": 4
}
